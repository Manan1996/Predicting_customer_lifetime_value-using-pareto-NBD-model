{
 "cells": [
  {
   "cell_type": "code",
   "execution_count": 1,
   "metadata": {},
   "outputs": [
    {
     "data": {
      "text/html": [
       "<div>\n",
       "<style>\n",
       "    .dataframe thead tr:only-child th {\n",
       "        text-align: right;\n",
       "    }\n",
       "\n",
       "    .dataframe thead th {\n",
       "        text-align: left;\n",
       "    }\n",
       "\n",
       "    .dataframe tbody tr th {\n",
       "        vertical-align: top;\n",
       "    }\n",
       "</style>\n",
       "<table border=\"1\" class=\"dataframe\">\n",
       "  <thead>\n",
       "    <tr style=\"text-align: right;\">\n",
       "      <th></th>\n",
       "      <th>id</th>\n",
       "      <th>chain</th>\n",
       "      <th>dept</th>\n",
       "      <th>category</th>\n",
       "      <th>company</th>\n",
       "      <th>brand</th>\n",
       "      <th>date</th>\n",
       "      <th>productsize</th>\n",
       "      <th>productmeasure</th>\n",
       "      <th>purchasequantity</th>\n",
       "      <th>purchaseamount</th>\n",
       "    </tr>\n",
       "  </thead>\n",
       "  <tbody>\n",
       "    <tr>\n",
       "      <th>0</th>\n",
       "      <td>86246</td>\n",
       "      <td>205</td>\n",
       "      <td>7</td>\n",
       "      <td>707</td>\n",
       "      <td>1078778070</td>\n",
       "      <td>12564</td>\n",
       "      <td>02-03-12</td>\n",
       "      <td>12.0</td>\n",
       "      <td>OZ</td>\n",
       "      <td>1</td>\n",
       "      <td>7.59</td>\n",
       "    </tr>\n",
       "    <tr>\n",
       "      <th>1</th>\n",
       "      <td>86246</td>\n",
       "      <td>205</td>\n",
       "      <td>63</td>\n",
       "      <td>6319</td>\n",
       "      <td>107654575</td>\n",
       "      <td>17876</td>\n",
       "      <td>02-03-12</td>\n",
       "      <td>64.0</td>\n",
       "      <td>OZ</td>\n",
       "      <td>1</td>\n",
       "      <td>1.59</td>\n",
       "    </tr>\n",
       "    <tr>\n",
       "      <th>2</th>\n",
       "      <td>86246</td>\n",
       "      <td>205</td>\n",
       "      <td>97</td>\n",
       "      <td>9753</td>\n",
       "      <td>1022027929</td>\n",
       "      <td>0</td>\n",
       "      <td>02-03-12</td>\n",
       "      <td>1.0</td>\n",
       "      <td>CT</td>\n",
       "      <td>1</td>\n",
       "      <td>5.99</td>\n",
       "    </tr>\n",
       "    <tr>\n",
       "      <th>3</th>\n",
       "      <td>86246</td>\n",
       "      <td>205</td>\n",
       "      <td>25</td>\n",
       "      <td>2509</td>\n",
       "      <td>107996777</td>\n",
       "      <td>31373</td>\n",
       "      <td>02-03-12</td>\n",
       "      <td>16.0</td>\n",
       "      <td>OZ</td>\n",
       "      <td>1</td>\n",
       "      <td>1.99</td>\n",
       "    </tr>\n",
       "    <tr>\n",
       "      <th>4</th>\n",
       "      <td>86246</td>\n",
       "      <td>205</td>\n",
       "      <td>55</td>\n",
       "      <td>5555</td>\n",
       "      <td>107684070</td>\n",
       "      <td>32094</td>\n",
       "      <td>02-03-12</td>\n",
       "      <td>16.0</td>\n",
       "      <td>OZ</td>\n",
       "      <td>2</td>\n",
       "      <td>10.38</td>\n",
       "    </tr>\n",
       "  </tbody>\n",
       "</table>\n",
       "</div>"
      ],
      "text/plain": [
       "      id  chain  dept  category     company  brand      date  productsize  \\\n",
       "0  86246    205     7       707  1078778070  12564  02-03-12         12.0   \n",
       "1  86246    205    63      6319   107654575  17876  02-03-12         64.0   \n",
       "2  86246    205    97      9753  1022027929      0  02-03-12          1.0   \n",
       "3  86246    205    25      2509   107996777  31373  02-03-12         16.0   \n",
       "4  86246    205    55      5555   107684070  32094  02-03-12         16.0   \n",
       "\n",
       "  productmeasure  purchasequantity  purchaseamount  \n",
       "0             OZ                 1            7.59  \n",
       "1             OZ                 1            1.59  \n",
       "2             CT                 1            5.99  \n",
       "3             OZ                 1            1.99  \n",
       "4             OZ                 2           10.38  "
      ]
     },
     "execution_count": 1,
     "metadata": {},
     "output_type": "execute_result"
    }
   ],
   "source": [
    "import pandas as pd\n",
    "df = pd.read_csv(\"F:/Anime/Transactions_Zomato/choti_file.csv\")\n",
    "df.head()"
   ]
  },
  {
   "cell_type": "code",
   "execution_count": 2,
   "metadata": {},
   "outputs": [
    {
     "data": {
      "text/html": [
       "<div>\n",
       "<style>\n",
       "    .dataframe thead tr:only-child th {\n",
       "        text-align: right;\n",
       "    }\n",
       "\n",
       "    .dataframe thead th {\n",
       "        text-align: left;\n",
       "    }\n",
       "\n",
       "    .dataframe tbody tr th {\n",
       "        vertical-align: top;\n",
       "    }\n",
       "</style>\n",
       "<table border=\"1\" class=\"dataframe\">\n",
       "  <thead>\n",
       "    <tr style=\"text-align: right;\">\n",
       "      <th></th>\n",
       "      <th>id</th>\n",
       "      <th>date</th>\n",
       "      <th>purchasequantity</th>\n",
       "      <th>purchaseamount</th>\n",
       "    </tr>\n",
       "  </thead>\n",
       "  <tbody>\n",
       "    <tr>\n",
       "      <th>0</th>\n",
       "      <td>86246</td>\n",
       "      <td>02-03-12</td>\n",
       "      <td>1</td>\n",
       "      <td>7.59</td>\n",
       "    </tr>\n",
       "    <tr>\n",
       "      <th>1</th>\n",
       "      <td>86246</td>\n",
       "      <td>02-03-12</td>\n",
       "      <td>1</td>\n",
       "      <td>1.59</td>\n",
       "    </tr>\n",
       "    <tr>\n",
       "      <th>2</th>\n",
       "      <td>86246</td>\n",
       "      <td>02-03-12</td>\n",
       "      <td>1</td>\n",
       "      <td>5.99</td>\n",
       "    </tr>\n",
       "    <tr>\n",
       "      <th>3</th>\n",
       "      <td>86246</td>\n",
       "      <td>02-03-12</td>\n",
       "      <td>1</td>\n",
       "      <td>1.99</td>\n",
       "    </tr>\n",
       "    <tr>\n",
       "      <th>4</th>\n",
       "      <td>86246</td>\n",
       "      <td>02-03-12</td>\n",
       "      <td>2</td>\n",
       "      <td>10.38</td>\n",
       "    </tr>\n",
       "  </tbody>\n",
       "</table>\n",
       "</div>"
      ],
      "text/plain": [
       "      id      date  purchasequantity  purchaseamount\n",
       "0  86246  02-03-12                 1            7.59\n",
       "1  86246  02-03-12                 1            1.59\n",
       "2  86246  02-03-12                 1            5.99\n",
       "3  86246  02-03-12                 1            1.99\n",
       "4  86246  02-03-12                 2           10.38"
      ]
     },
     "execution_count": 2,
     "metadata": {},
     "output_type": "execute_result"
    }
   ],
   "source": [
    "df_defined = df.filter(['id','date','purchasequantity','purchaseamount'],axis=1)\n",
    "df_defined.head()"
   ]
  },
  {
   "cell_type": "code",
   "execution_count": 3,
   "metadata": {},
   "outputs": [
    {
     "name": "stderr",
     "output_type": "stream",
     "text": [
      "WARNING (theano.configdefaults): g++ not available, if using conda: `conda install m2w64-toolchain`\n",
      "C:\\Users\\tilak\\AppData\\Roaming\\Python\\Python36\\site-packages\\theano\\configdefaults.py:560: UserWarning: DeprecationWarning: there is no c++ compiler.This is deprecated and with Theano 0.11 a c++ compiler will be mandatory\n",
      "  warnings.warn(\"DeprecationWarning: there is no c++ compiler.\"\n",
      "WARNING (theano.configdefaults): g++ not detected ! Theano will be unable to execute optimized C-implementations (for both CPU and GPU) and will default to Python implementations. Performance will be severely degraded. To remove this warning, set Theano flags cxx to an empty string.\n",
      "WARNING (theano.tensor.blas): Using NumPy C-API based implementation for BLAS functions.\n",
      "C:\\Users\\tilak\\Anaconda3\\lib\\site-packages\\h5py\\__init__.py:36: FutureWarning: Conversion of the second argument of issubdtype from `float` to `np.floating` is deprecated. In future, it will be treated as `np.float64 == np.dtype(float).type`.\n",
      "  from ._conv import register_converters as _register_converters\n"
     ]
    }
   ],
   "source": [
    "import pymc3 as pm\n",
    "import numpy as np\n",
    "import matplotlib.pyplot as plt\n",
    "%matplotlib inline"
   ]
  },
  {
   "cell_type": "code",
   "execution_count": 1,
   "metadata": {},
   "outputs": [
    {
     "name": "stdout",
     "output_type": "stream",
     "text": [
      "Requirement already up-to-date: pip in c:\\users\\tilak\\anaconda3\\lib\\site-packages (10.0.1)\n"
     ]
    }
   ],
   "source": [
    "!c:\\users\\tilak\\anaconda3\\python.exe -m pip install --upgrade pip"
   ]
  },
  {
   "cell_type": "code",
   "execution_count": 2,
   "metadata": {},
   "outputs": [
    {
     "name": "stdout",
     "output_type": "stream",
     "text": [
      "Collecting lifetimes\n",
      "  Downloading https://files.pythonhosted.org/packages/a0/d7/8941ed9a553320c5ccc120ad2e8b9be9d7951982d26d8bc038ffd696618d/Lifetimes-0.9.1.0-py2.py3-none-any.whl (606kB)\n",
      "Requirement already satisfied: numpy in c:\\users\\tilak\\anaconda3\\lib\\site-packages (from lifetimes) (1.14.5)\n",
      "Requirement already satisfied: scipy in c:\\users\\tilak\\anaconda3\\lib\\site-packages (from lifetimes) (0.19.0)\n",
      "Collecting dill (from lifetimes)\n",
      "  Downloading https://files.pythonhosted.org/packages/6f/78/8b96476f4ae426db71c6e86a8e6a81407f015b34547e442291cd397b18f3/dill-0.2.8.2.tar.gz (150kB)\n",
      "Requirement already satisfied: pandas>=0.19 in c:\\users\\tilak\\anaconda3\\lib\\site-packages (from lifetimes) (0.20.1)\n",
      "Requirement already satisfied: pyreadline>=1.7.1 in c:\\users\\tilak\\anaconda3\\lib\\site-packages (from dill->lifetimes) (2.1)\n",
      "Requirement already satisfied: python-dateutil>=2 in c:\\users\\tilak\\appdata\\roaming\\python\\python36\\site-packages (from pandas>=0.19->lifetimes) (2.7.3)\n",
      "Requirement already satisfied: pytz>=2011k in c:\\users\\tilak\\anaconda3\\lib\\site-packages (from pandas>=0.19->lifetimes) (2017.2)\n",
      "Requirement already satisfied: six>=1.5 in c:\\users\\tilak\\appdata\\roaming\\python\\python36\\site-packages (from python-dateutil>=2->pandas>=0.19->lifetimes) (1.11.0)\n",
      "Building wheels for collected packages: dill\n",
      "  Running setup.py bdist_wheel for dill: started\n",
      "  Running setup.py bdist_wheel for dill: finished with status 'done'\n",
      "  Stored in directory: C:\\Users\\tilak\\AppData\\Local\\pip\\Cache\\wheels\\e2\\5d\\17\\f87cb7751896ac629b435a8696f83ee75b11029f5d6f6bda72\n",
      "Successfully built dill\n",
      "Installing collected packages: dill, lifetimes\n",
      "Successfully installed dill-0.2.8.2 lifetimes-0.9.1.0\n"
     ]
    }
   ],
   "source": [
    "!pip install lifetimes\n",
    "    "
   ]
  },
  {
   "cell_type": "code",
   "execution_count": 5,
   "metadata": {},
   "outputs": [
    {
     "data": {
      "text/html": [
       "<div>\n",
       "<style>\n",
       "    .dataframe thead tr:only-child th {\n",
       "        text-align: right;\n",
       "    }\n",
       "\n",
       "    .dataframe thead th {\n",
       "        text-align: left;\n",
       "    }\n",
       "\n",
       "    .dataframe tbody tr th {\n",
       "        vertical-align: top;\n",
       "    }\n",
       "</style>\n",
       "<table border=\"1\" class=\"dataframe\">\n",
       "  <thead>\n",
       "    <tr style=\"text-align: right;\">\n",
       "      <th></th>\n",
       "      <th>frequency</th>\n",
       "      <th>recency</th>\n",
       "      <th>T</th>\n",
       "    </tr>\n",
       "    <tr>\n",
       "      <th>id</th>\n",
       "      <th></th>\n",
       "      <th></th>\n",
       "      <th></th>\n",
       "    </tr>\n",
       "  </thead>\n",
       "  <tbody>\n",
       "    <tr>\n",
       "      <th>86246</th>\n",
       "      <td>50.0</td>\n",
       "      <td>54.0</td>\n",
       "      <td>54.0</td>\n",
       "    </tr>\n",
       "    <tr>\n",
       "      <th>12262064</th>\n",
       "      <td>47.0</td>\n",
       "      <td>54.0</td>\n",
       "      <td>54.0</td>\n",
       "    </tr>\n",
       "    <tr>\n",
       "      <th>12277270</th>\n",
       "      <td>46.0</td>\n",
       "      <td>54.0</td>\n",
       "      <td>54.0</td>\n",
       "    </tr>\n",
       "    <tr>\n",
       "      <th>13074629</th>\n",
       "      <td>41.0</td>\n",
       "      <td>54.0</td>\n",
       "      <td>54.0</td>\n",
       "    </tr>\n",
       "    <tr>\n",
       "      <th>13251776</th>\n",
       "      <td>46.0</td>\n",
       "      <td>53.0</td>\n",
       "      <td>53.0</td>\n",
       "    </tr>\n",
       "  </tbody>\n",
       "</table>\n",
       "</div>"
      ],
      "text/plain": [
       "          frequency  recency     T\n",
       "id                                \n",
       "86246          50.0     54.0  54.0\n",
       "12262064       47.0     54.0  54.0\n",
       "12277270       46.0     54.0  54.0\n",
       "13074629       41.0     54.0  54.0\n",
       "13251776       46.0     53.0  53.0"
      ]
     },
     "execution_count": 5,
     "metadata": {},
     "output_type": "execute_result"
    }
   ],
   "source": [
    "import lifetimes\n",
    "rfm = lifetimes.utils.summary_data_from_transaction_data(\n",
    "     df_defined,\n",
    "    'id',\n",
    "    'date',\n",
    "    observation_period_end=pd.to_datetime('19-01-13'),\n",
    "    freq='W'\n",
    ")\n",
    "rfm.head()"
   ]
  },
  {
   "cell_type": "code",
   "execution_count": 8,
   "metadata": {},
   "outputs": [],
   "source": [
    "from pymc3.math import exp, log\n",
    "\n",
    "class ParetoNBD(pm.Continuous):\n",
    "    \"\"\"\n",
    "    Custom distribution class for Pareto/NBD likelihood.\n",
    "    \"\"\"\n",
    "    \n",
    "    def __init__(self, lambda_, mu, *args, **kwargs):\n",
    "        super(ParetoNBD, self).__init__(*args, **kwargs)\n",
    "        self.lambda_ = lambda_\n",
    "        self.mu = mu\n",
    "        \n",
    "    def logp(self, x, t_x, T):\n",
    "        \"\"\"\n",
    "        Loglikelihood function for and indvidual customer's purchasing rate \\lambda\n",
    "        and lifetime \\mu given their frequency, recency and time since first purchase.\n",
    "        \"\"\"\n",
    "        \n",
    "        log_lambda = log(self.lambda_)\n",
    "        log_mu = log(self.mu)\n",
    "        mu_plus_lambda = self.lambda_ + self.mu\n",
    "        log_mu_plus_lambda = log(mu_plus_lambda)\n",
    "        \n",
    "        p_1 = x * log_lambda + log_mu - log_mu_plus_lambda - t_x * mu_plus_lambda\n",
    "        p_2 = (x + 1) * log_lambda - log_mu_plus_lambda - T * mu_plus_lambda\n",
    "        \n",
    "        return log(exp(p_1) + exp(p_2))\n"
   ]
  },
  {
   "cell_type": "code",
   "execution_count": 10,
   "metadata": {},
   "outputs": [
    {
     "name": "stderr",
     "output_type": "stream",
     "text": [
      "Only 200 samples in chain.\n",
      "Sequential sampling (2 chains in 1 job)\n",
      "NUTS: [mu_log__, lambda_log__, beta_log__, s_log__, alpha_log__, r_log__]\n",
      "100%|████████████████████████████████████████| 700/700 [11:29<00:00,  1.02it/s]\n",
      "100%|████████████████████████████████████████| 700/700 [43:18<00:00,  3.71s/it]\n",
      "C:\\Users\\tilak\\Anaconda3\\lib\\site-packages\\scipy\\signal\\signaltools.py:375: FutureWarning: Conversion of the second argument of issubdtype from `complex` to `np.complexfloating` is deprecated. In future, it will be treated as `np.complex128 == np.dtype(complex).type`.\n",
      "  complex_result = (np.issubdtype(in1.dtype, complex) or\n",
      "C:\\Users\\tilak\\Anaconda3\\lib\\site-packages\\scipy\\signal\\signaltools.py:376: FutureWarning: Conversion of the second argument of issubdtype from `complex` to `np.complexfloating` is deprecated. In future, it will be treated as `np.complex128 == np.dtype(complex).type`.\n",
      "  np.issubdtype(in2.dtype, complex))\n",
      "There were 4 divergences after tuning. Increase `target_accept` or reparameterize.\n",
      "There were 47 divergences after tuning. Increase `target_accept` or reparameterize.\n",
      "The acceptance probability does not match the target. It is 0.5825575654369304, but should be close to 0.8. Try to increase the number of tuning steps.\n",
      "The number of effective samples is smaller than 10% for some parameters.\n"
     ]
    }
   ],
   "source": [
    "N = rfm.shape[0] # number of customers\n",
    "x = rfm['frequency'].values\n",
    "t_x = rfm['recency'].values\n",
    "T = rfm['T'].values # length of training peri\n",
    "n_draws = 200\n",
    "\n",
    "pnbd_model = pm.Model()\n",
    "\n",
    "with pnbd_model:\n",
    "    \n",
    "    # Uninformative priors on model hyperparameters see Polson and Scott \n",
    "    # https://projecteuclid.org/download/pdfview_1/euclid.ba/1354024466\n",
    "    r = pm.HalfCauchy('r', beta=2)\n",
    "    alpha = pm.HalfCauchy('alpha', beta=2)\n",
    "    s = pm.HalfCauchy('s', beta=2)\n",
    "    beta = pm.HalfCauchy('beta', beta=2)\n",
    "    \n",
    "    # Gamma prior on purchasing rate parameter lambda\n",
    "    lambda_ = pm.Gamma('lambda', alpha=r, beta=alpha, shape=N, testval=np.random.rand(N))\n",
    "    # Gamma prior on lifetime parameter mu\n",
    "    mu = pm.Gamma('mu', alpha=s, beta=beta, shape=N, testval=np.random.rand(N))\n",
    "\n",
    "    # Custom distribution for Pareto-NBD likelihood function\n",
    "    loglikelihood = ParetoNBD(\"loglikelihood\", mu=mu, lambda_=lambda_, observed={'x': x, 't_x': t_x, 'T': T})\n",
    "    \n",
    "    # Sample the model\n",
    "    trace = pm.sample(n_draws, init=None,njobs=1)\n"
   ]
  },
  {
   "cell_type": "code",
   "execution_count": 22,
   "metadata": {},
   "outputs": [
    {
     "data": {
      "image/png": "[encoded data removed]",
      "text/plain": [
       "<matplotlib.figure.Figure at 0xf5e5a30>"
      ]
     },
     "metadata": {},
     "output_type": "display_data"
    }
   ],
   "source": [
    "\n",
    "_  =  pm.plot_posterior(trace, varnames=['r','alpha','s', 'beta'])"
   ]
  },
  {
   "cell_type": "code",
   "execution_count": 23,
   "metadata": {},
   "outputs": [],
   "source": [
    "from pymc3.math import exp, log\n",
    "\n",
    "class ParetoNBD(pm.Continuous):\n",
    "    \"\"\"\n",
    "    Custom distribution class for Pareto/NBD likelihood.\n",
    "    \"\"\"\n",
    "    \n",
    "    def __init__(self, lambda_, mu, *args, **kwargs):\n",
    "        super(ParetoNBD, self).__init__(*args, **kwargs)\n",
    "        self.lambda_ = lambda_\n",
    "        self.mu = mu\n",
    "        \n",
    "    def logp(self, x, t_x, T):\n",
    "        \"\"\"\n",
    "        Loglikelihood function for and indvidual customer's purchasing rate \\lambda\n",
    "        and lifetime \\mu given their frequency, recency and time since first purchase.\n",
    "        \"\"\"\n",
    "        \n",
    "        log_lambda = log(self.lambda_)\n",
    "        log_mu = log(self.mu)\n",
    "        mu_plus_lambda = self.lambda_ + self.mu\n",
    "        log_mu_plus_lambda = log(mu_plus_lambda)\n",
    "        \n",
    "        p_1 = x * log_lambda + log_mu - log_mu_plus_lambda - t_x * mu_plus_lambda\n",
    "        p_2 = (x + 1) * log_lambda - log_mu_plus_lambda - T * mu_plus_lambda\n",
    "        \n",
    "        return log(exp(p_1) + exp(p_2))\n"
   ]
  },
  {
   "cell_type": "code",
   "execution_count": 24,
   "metadata": {},
   "outputs": [],
   "source": [
    "def prob_alive_at_T(lambda_, mu, t_x, T):\n",
    "    \"\"\"\n",
    "    Probability a customer's time of death \\tau occurs after T.\n",
    "    \n",
    "    Pr(\\tau > T \\> | \\> \\lambda, \\mu, x, t_x,T) = \\dfrac{1}{1+\\dfrac{\\mu}{\\mu+\\lambda}\n",
    "    \\big\\{e^{(\\lambda+\\mu)(T-t_x)}-1\\big\\}}\n",
    "    \n",
    "    See expression (7) in technical appendix of Abe.\n",
    "    \n",
    "    :param lambda_: lambda parameter at the customer level :\n",
    "    :type lambda_: scalar\n",
    "    :param mu: mu parameter at the customer level\n",
    "    :type mu_: scalar\n",
    "    :param t_x: recency of transactions\n",
    "    :type t_x: float\n",
    "    :param T: duration of the calibration/training period\n",
    "    :type T: float\n",
    "    \n",
    "    :return: probability of being alive at time T.\n",
    "    \"\"\"\n",
    "\n",
    "    den = 1 + (mu / (lambda_ + mu)) * (np.exp((lambda_ + mu) * (T - t_x)) - 1)\n",
    "    return 1 / den"
   ]
  },
  {
   "cell_type": "code",
   "execution_count": 25,
   "metadata": {},
   "outputs": [],
   "source": [
    "def likelihood(lambda_, mu, x, t, T):\n",
    "    \"\"\"Pareto/NBD likelihood function.\n",
    "\n",
    "    :param lambda_: lambda parameter at the customer-level.\n",
    "    :param mu: mu parameter at the customer level\n",
    "    :param x: number of repeat transactions\n",
    "    :param t: recency\n",
    "    :param T: length of the calibration/training period.\n",
    "\n",
    "    :return: likelihood value.\n",
    "    \"\"\"\n",
    "\n",
    "    p1 = x * np.log(lambda_) + np.log(mu) - np.log(mu + lambda_) - t * (mu + lambda_)\n",
    "    p2 = (x + 1) * np.log(lambda_) - np.log(mu + lambda_) - T * (mu + lambda_)\n",
    "    return np.exp(p1) + np.exp(p2)\n",
    "\n",
    "def predict(t, lambda_, mu, x, tx, T):\n",
    "    \"\"\"Conditional expected purchases at end of time (T, T+t).\n",
    "\n",
    "    Used to assess holdout period performance and to make predictions\n",
    "    for future time period t. Conditional on purchase history (x, t_x, T).\n",
    "\n",
    "    E[X(T,T+t) \\> | \\> \\lambda, \\mu, x, t_x, T] = \\dfrac{1}{L(\\lambda, \\mu)|(x, t_x, T)}\n",
    "    \\times \\dfrac{\\lambda^{x+1}}{\\mu}e^{-(\\lambda+\\mu)T}(1-e^{-\\mu t})\n",
    "\n",
    "    http://brucehardie.com/notes/034/corr_Pareto-NBD.pdf\n",
    "\n",
    "    :param t: time period\n",
    "    :type t: scalar\n",
    "\n",
    "    :param lambda_: lambda parameter at the customer level :\n",
    "    :type lambda_: scalar\n",
    "\n",
    "    :param mu: mu parameter at the customer level\n",
    "    :type mu_: scalar\n",
    "\n",
    "    :param x: number of repeat transactions\n",
    "    :type x: integer\n",
    "\n",
    "    :param tx: recency of transactions\n",
    "    :type tx: float\n",
    "\n",
    "    :param T: duration of the calibration/training period\n",
    "    :type T: float\n",
    "\n",
    "    :return expected number of purchases (scalar)\n",
    "    \"\"\"\n",
    "    like = likelihood(lambda_, mu, x, tx, T)\n",
    "    p2 = lambda_ ** (x + 1) / mu * np.exp(-(lambda_ + mu) * T) * (1 - np.exp(-mu * t))\n",
    "\n",
    "    return 1 / like * p2"
   ]
  },
  {
   "cell_type": "code",
   "execution_count": 93,
   "metadata": {},
   "outputs": [
    {
     "data": {
      "text/html": [
       "<div>\n",
       "<style>\n",
       "    .dataframe thead tr:only-child th {\n",
       "        text-align: right;\n",
       "    }\n",
       "\n",
       "    .dataframe thead th {\n",
       "        text-align: left;\n",
       "    }\n",
       "\n",
       "    .dataframe tbody tr th {\n",
       "        vertical-align: top;\n",
       "    }\n",
       "</style>\n",
       "<table border=\"1\" class=\"dataframe\">\n",
       "  <thead>\n",
       "    <tr style=\"text-align: right;\">\n",
       "      <th></th>\n",
       "      <th>frequency_cal</th>\n",
       "      <th>recency_cal</th>\n",
       "      <th>T_cal</th>\n",
       "      <th>frequency_holdout</th>\n",
       "      <th>duration_holdout</th>\n",
       "    </tr>\n",
       "  </thead>\n",
       "  <tbody>\n",
       "    <tr>\n",
       "      <th>count</th>\n",
       "      <td>5.00000</td>\n",
       "      <td>5.000000</td>\n",
       "      <td>5.000000</td>\n",
       "      <td>5.000000</td>\n",
       "      <td>5.0</td>\n",
       "    </tr>\n",
       "    <tr>\n",
       "      <th>mean</th>\n",
       "      <td>18.20000</td>\n",
       "      <td>23.600000</td>\n",
       "      <td>23.800000</td>\n",
       "      <td>29.200000</td>\n",
       "      <td>31.0</td>\n",
       "    </tr>\n",
       "    <tr>\n",
       "      <th>std</th>\n",
       "      <td>1.30384</td>\n",
       "      <td>0.547723</td>\n",
       "      <td>0.447214</td>\n",
       "      <td>2.774887</td>\n",
       "      <td>0.0</td>\n",
       "    </tr>\n",
       "    <tr>\n",
       "      <th>min</th>\n",
       "      <td>17.00000</td>\n",
       "      <td>23.000000</td>\n",
       "      <td>23.000000</td>\n",
       "      <td>25.000000</td>\n",
       "      <td>31.0</td>\n",
       "    </tr>\n",
       "    <tr>\n",
       "      <th>25%</th>\n",
       "      <td>17.00000</td>\n",
       "      <td>23.000000</td>\n",
       "      <td>24.000000</td>\n",
       "      <td>28.000000</td>\n",
       "      <td>31.0</td>\n",
       "    </tr>\n",
       "    <tr>\n",
       "      <th>50%</th>\n",
       "      <td>18.00000</td>\n",
       "      <td>24.000000</td>\n",
       "      <td>24.000000</td>\n",
       "      <td>30.000000</td>\n",
       "      <td>31.0</td>\n",
       "    </tr>\n",
       "    <tr>\n",
       "      <th>75%</th>\n",
       "      <td>19.00000</td>\n",
       "      <td>24.000000</td>\n",
       "      <td>24.000000</td>\n",
       "      <td>31.000000</td>\n",
       "      <td>31.0</td>\n",
       "    </tr>\n",
       "    <tr>\n",
       "      <th>max</th>\n",
       "      <td>20.00000</td>\n",
       "      <td>24.000000</td>\n",
       "      <td>24.000000</td>\n",
       "      <td>32.000000</td>\n",
       "      <td>31.0</td>\n",
       "    </tr>\n",
       "  </tbody>\n",
       "</table>\n",
       "</div>"
      ],
      "text/plain": [
       "       frequency_cal  recency_cal      T_cal  frequency_holdout  \\\n",
       "count        5.00000     5.000000   5.000000           5.000000   \n",
       "mean        18.20000    23.600000  23.800000          29.200000   \n",
       "std          1.30384     0.547723   0.447214           2.774887   \n",
       "min         17.00000    23.000000  23.000000          25.000000   \n",
       "25%         17.00000    23.000000  24.000000          28.000000   \n",
       "50%         18.00000    24.000000  24.000000          30.000000   \n",
       "75%         19.00000    24.000000  24.000000          31.000000   \n",
       "max         20.00000    24.000000  24.000000          32.000000   \n",
       "\n",
       "       duration_holdout  \n",
       "count               5.0  \n",
       "mean               31.0  \n",
       "std                 0.0  \n",
       "min                31.0  \n",
       "25%                31.0  \n",
       "50%                31.0  \n",
       "75%                31.0  \n",
       "max                31.0  "
      ]
     },
     "execution_count": 93,
     "metadata": {},
     "output_type": "execute_result"
    }
   ],
   "source": [
    "from lifetimes.utils import calibration_and_holdout_data\n",
    "\n",
    "rfm = calibration_and_holdout_data(\n",
    "    df_defined, \n",
    "    customer_id_col='id',\n",
    "    datetime_col='date',\n",
    "    calibration_period_end='19-06-12',\n",
    "    observation_period_end='22-01-13',\n",
    "    freq='W'\n",
    ")\n",
    "\n",
    "rfm.describe()"
   ]
  },
  {
   "cell_type": "code",
   "execution_count": null,
   "metadata": {},
   "outputs": [],
   "source": []
  },
  {
   "cell_type": "code",
   "execution_count": 107,
   "metadata": {},
   "outputs": [
    {
     "data": {
      "text/plain": [
       "frequency_cal          19.000000\n",
       "recency_cal            24.000000\n",
       "T_cal                  24.000000\n",
       "frequency_holdout      28.000000\n",
       "duration_holdout       31.000000\n",
       "frequency_predicted    27.371843\n",
       "Name: 12277270, dtype: float64"
      ]
     },
     "execution_count": 107,
     "metadata": {},
     "output_type": "execute_result"
    }
   ],
   "source": [
    "customer_index = 2\n",
    "# show purchasing behavior\n",
    "rfm.iloc[customer_index]"
   ]
  },
  {
   "cell_type": "code",
   "execution_count": 117,
   "metadata": {},
   "outputs": [
    {
     "data": {
      "text/plain": [
       "1.3618172132945319"
      ]
     },
     "execution_count": 117,
     "metadata": {},
     "output_type": "execute_result"
    }
   ],
   "source": [
    "lambda_post = trace['lambda']\n",
    "mu_post = trace['mu']\n",
    "\n",
    "# Select distributions of lambda and mu for a customer\n",
    "lambda_individual = lambda_post[:,customer_index]\n",
    "mu_individual = mu_post[:,customer_index]\n",
    "\n",
    "# predict purchases for the user at t = 39\n",
    "t = 2\n",
    "predict(t, lambda_individual, mu_individual, x[customer_index], t_x[customer_index], T[customer_index]).mean()"
   ]
  },
  {
   "cell_type": "code",
   "execution_count": 110,
   "metadata": {},
   "outputs": [
    {
     "data": {
      "text/plain": [
       "frequency_holdout      146.000000\n",
       "frequency_predicted    143.644869\n",
       "dtype: float64"
      ]
     },
     "execution_count": 110,
     "metadata": {},
     "output_type": "execute_result"
    }
   ],
   "source": [
    "t = 40\n",
    "# predictions are size of customer base x number of draws\n",
    "holdout_predictions = np.empty([N, 400])\n",
    "\n",
    "for i in np.arange(N):\n",
    "    holdout_predictions[i] = predict(\n",
    "        t, \n",
    "        lambda_post[:,i], \n",
    "        mu_post[:,i], \n",
    "        x[i], \n",
    "        t_x[i], \n",
    "        T[i]\n",
    "    )\n",
    "\n",
    "# predictions are posterior mean\n",
    "rfm['frequency_predicted'] = holdout_predictions.mean(axis=1)\n",
    "rfm[['frequency_holdout','frequency_predicted']].sum()"
   ]
  },
  {
   "cell_type": "code",
   "execution_count": 111,
   "metadata": {},
   "outputs": [
    {
     "data": {
      "text/plain": [
       "frequency_holdout      146.000000\n",
       "frequency_predicted    143.644869\n",
       "dtype: float64"
      ]
     },
     "execution_count": 111,
     "metadata": {},
     "output_type": "execute_result"
    }
   ],
   "source": [
    "rfm[['frequency_holdout','frequency_predicted']].sum()"
   ]
  },
  {
   "cell_type": "code",
   "execution_count": 112,
   "metadata": {},
   "outputs": [
    {
     "data": {
      "image/png": "[encoded data removed]",
      "text/plain": [
       "<matplotlib.figure.Figure at 0xee37d50>"
      ]
     },
     "metadata": {},
     "output_type": "display_data"
    }
   ],
   "source": [
    "xlim=(15,20)\n",
    "mean_frequencies = rfm.groupby('frequency_cal')[['frequency_holdout',\n",
    "                                     'frequency_predicted']].mean()\n",
    "mean_frequencies.rename(columns={'frequency_holdout': 'Observed',\n",
    "                                 'frequency_predicted': 'Model'},\n",
    "                        inplace=True)\n",
    "mean_frequencies.plot(kind='line',\n",
    "                      title='Conditional Expected Purchases in Holdout Period', figsize=(10, 8))\n",
    "\n",
    "# Generate a dummy model with holdout freq = t_holdout/t_calib\n",
    "t_calib = np.mean(rfm['T_cal'])\n",
    "t_holdout = t\n",
    "x_heuristics = np.linspace(xlim[0],xlim[1],100)\n",
    "heuristics = t_holdout/t_calib * x_heuristics\n",
    "\n",
    "plt.plot(x_heuristics, heuristics, linestyle='--', color='black', label='Simple Heuristics')\n",
    "plt.legend(loc=0)\n",
    "plt.xlim(xlim)\n",
    "plt.ylabel('Mean Number of Transactions in Holdout Period')\n",
    "plt.xlabel('Number of Transactions in Calibration Period')\n",
    "plt.grid(False)\n",
    "plt.show()"
   ]
  }
 ],
 "metadata": {
  "kernelspec": {
   "display_name": "Python 3",
   "language": "python",
   "name": "python3"
  },
  "language_info": {
   "codemirror_mode": {
    "name": "ipython",
    "version": 3
   },
   "file_extension": ".py",
   "mimetype": "text/x-python",
   "name": "python",
   "nbconvert_exporter": "python",
   "pygments_lexer": "ipython3",
   "version": "3.6.1"
  }
 },
 "nbformat": 4,
 "nbformat_minor": 2
}
